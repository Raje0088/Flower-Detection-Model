{
 "cells": [
  {
   "cell_type": "code",
   "execution_count": null,
   "id": "1cda4185",
   "metadata": {},
   "outputs": [],
   "source": [
    "#importing libraries\n",
    "import os\n",
    "import numpy as np\n",
    "\n",
    "import tensorflow as tf\n",
    "from tensorflow.keras import layers\n",
    "from tensorflow.keras.preprocessing.image import load_img, ImageDataGenerator\n",
    "from tensorflow.keras.models import Sequential, load_model\n",
    "from tensorflow.keras.layers import Conv2D, MaxPool2D, Dense, Dropout, Flatten"
   ]
  },
  {
   "cell_type": "code",
   "execution_count": null,
   "id": "ab8128d5",
   "metadata": {},
   "outputs": [],
   "source": [
    "#fetch images count from folders\n",
    "dirs = os.listdir('Images/')\n",
    "for dir in dirs:\n",
    "    files = list(os.listdir('Images/' + dir))\n",
    "    print(dir + ' Folder has ' + str(len(files)) + ' Images')\n",
    "    count = count + len(files)\n",
    "print(dir +'Folder has' + str(len(files))+ ' Images')"
   ]
  },
  {
   "cell_type": "code",
   "execution_count": null,
   "id": "dcbf4439",
   "metadata": {},
   "outputs": [],
   "source": []
  },
  {
   "cell_type": "code",
   "execution_count": null,
   "id": "4993a63d",
   "metadata": {},
   "outputs": [],
   "source": [
    "\n"
   ]
  },
  {
   "cell_type": "code",
   "execution_count": null,
   "id": "a13c5a09",
   "metadata": {},
   "outputs": [],
   "source": []
  }
 ],
 "metadata": {
  "kernelspec": {
   "display_name": "Python 3 (ipykernel)",
   "language": "python",
   "name": "python3"
  },
  "language_info": {
   "codemirror_mode": {
    "name": "ipython",
    "version": 3
   },
   "file_extension": ".py",
   "mimetype": "text/x-python",
   "name": "python",
   "nbconvert_exporter": "python",
   "pygments_lexer": "ipython3",
   "version": "3.11.4"
  }
 },
 "nbformat": 4,
 "nbformat_minor": 5
}
